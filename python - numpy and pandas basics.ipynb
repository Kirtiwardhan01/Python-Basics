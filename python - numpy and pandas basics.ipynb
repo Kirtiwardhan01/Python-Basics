{
 "cells": [
  {
   "cell_type": "code",
   "execution_count": 11,
   "metadata": {},
   "outputs": [],
   "source": [
    "def func_python(N):\n",
    "    d=0\n",
    "    for i in range(N):\n",
    "        d += (i % 3 - 1) * 1\n",
    "    return d"
   ]
  },
  {
   "cell_type": "code",
   "execution_count": 24,
   "metadata": {},
   "outputs": [],
   "source": [
    "import numpy as np"
   ]
  },
  {
   "cell_type": "code",
   "execution_count": 34,
   "metadata": {},
   "outputs": [
    {
     "name": "stdout",
     "output_type": "stream",
     "text": [
      "[1.33333333 1.42857143 2.4       ]\n"
     ]
    }
   ],
   "source": [
    "distance = [40,50,60]\n",
    "speed1 = [30,35,25]\n",
    "dist = np.array(distance)\n",
    "speed = np.array(speed1)\n",
    "\n",
    "time = dist/speed\n",
    "print(time)"
   ]
  },
  {
   "cell_type": "code",
   "execution_count": 37,
   "metadata": {},
   "outputs": [
    {
     "name": "stdout",
     "output_type": "stream",
     "text": [
      "[1, 3, 5, 7, 9, 2, 4, 6, 8, 10]\n",
      "[6, 8, 10, 12, 14]\n"
     ]
    }
   ],
   "source": [
    "a = [1,3,5,7,9]\n",
    "b = [2,4,6,8,10]\n",
    "print(a+b)\n",
    "\n",
    "c = [val + 5 for val in a]\n",
    "print(c)"
   ]
  },
  {
   "cell_type": "code",
   "execution_count": 47,
   "metadata": {},
   "outputs": [
    {
     "name": "stdout",
     "output_type": "stream",
     "text": [
      "[ 3 33 53 73]\n",
      "[  1 121 441 961]\n",
      "[  6  66  96 126]\n"
     ]
    }
   ],
   "source": [
    "f = np.array((1,11,21,31))\n",
    "g = np.array((2,22,32,42))\n",
    "print(f+g)\n",
    "print(f**2) #square of f\n",
    "print(g*3)"
   ]
  },
  {
   "cell_type": "code",
   "execution_count": 54,
   "metadata": {},
   "outputs": [
    {
     "name": "stdout",
     "output_type": "stream",
     "text": [
      "array:        [0 1 2 3 4 5 6 7 8 9]\n",
      "\n"
     ]
    }
   ],
   "source": [
    "c = np.arange((10))\n",
    "print('array:       ',c)\n",
    "print()"
   ]
  },
  {
   "cell_type": "code",
   "execution_count": 56,
   "metadata": {},
   "outputs": [
    {
     "name": "stdout",
     "output_type": "stream",
     "text": [
      "anarray:       [1]\n"
     ]
    }
   ],
   "source": [
    "anarray = np.array(np.arange(1,3,5))\n",
    "print('anarray:      ',anarray)"
   ]
  },
  {
   "cell_type": "code",
   "execution_count": 58,
   "metadata": {},
   "outputs": [
    {
     "name": "stdout",
     "output_type": "stream",
     "text": [
      "anarray:       [1.  1.5 2.  2.5 3. ]\n"
     ]
    },
    {
     "data": {
      "text/plain": [
       "numpy.ndarray"
      ]
     },
     "execution_count": 58,
     "metadata": {},
     "output_type": "execute_result"
    }
   ],
   "source": [
    "kirti = np.array(np.linspace(1,3,5))\n",
    "print('anarray:      ',kirti)\n",
    "type(kirti)"
   ]
  },
  {
   "cell_type": "code",
   "execution_count": 74,
   "metadata": {},
   "outputs": [
    {
     "name": "stdout",
     "output_type": "stream",
     "text": [
      "[[  32   45  123  756   23 2123]\n",
      " [   1    2    3    4    5    6]\n",
      " [   6    5    4    3    2    1]\n",
      " [  78   89   87   76   54   31]]\n",
      "int32\n"
     ]
    }
   ],
   "source": [
    "data = np.array((32,45,123,756,23,2123,1,2,3,4,5,6,6,5,4,3,2,1,78,89,87,76,54,31))\n",
    "data.shape\n",
    "data2 = data.reshape(4,6)\n",
    "print(data2)\n",
    "print(data2.dtype)\n"
   ]
  },
  {
   "cell_type": "code",
   "execution_count": 75,
   "metadata": {},
   "outputs": [
    {
     "data": {
      "text/plain": [
       "array([0., 0., 0., 0., 0., 0., 0., 0., 0., 0., 0., 0., 0., 0., 0., 0., 0.,\n",
       "       0., 0., 0., 0., 0., 0., 0., 0., 0., 0., 0., 0., 0., 0., 0., 0., 0.,\n",
       "       0., 0., 0., 0., 0., 0.])"
      ]
     },
     "execution_count": 75,
     "metadata": {},
     "output_type": "execute_result"
    }
   ],
   "source": [
    "np.zeros(40)"
   ]
  },
  {
   "cell_type": "code",
   "execution_count": 77,
   "metadata": {},
   "outputs": [
    {
     "data": {
      "text/plain": [
       "array([[1., 0., 0., 0., 0.],\n",
       "       [0., 1., 0., 0., 0.],\n",
       "       [0., 0., 1., 0., 0.],\n",
       "       [0., 0., 0., 1., 0.],\n",
       "       [0., 0., 0., 0., 1.]])"
      ]
     },
     "execution_count": 77,
     "metadata": {},
     "output_type": "execute_result"
    }
   ],
   "source": [
    "np.eye(5)   #5*5 identity matrix"
   ]
  },
  {
   "cell_type": "code",
   "execution_count": 80,
   "metadata": {},
   "outputs": [
    {
     "data": {
      "text/plain": [
       "array([[1, 0, 0, 0, 0, 0, 0, 0],\n",
       "       [0, 3, 0, 0, 0, 0, 0, 0],\n",
       "       [0, 0, 5, 0, 0, 0, 0, 0],\n",
       "       [0, 0, 0, 7, 0, 0, 0, 0],\n",
       "       [0, 0, 0, 0, 9, 0, 0, 0],\n",
       "       [0, 0, 0, 0, 0, 2, 0, 0],\n",
       "       [0, 0, 0, 0, 0, 0, 4, 0],\n",
       "       [0, 0, 0, 0, 0, 0, 0, 6]])"
      ]
     },
     "execution_count": 80,
     "metadata": {},
     "output_type": "execute_result"
    }
   ],
   "source": [
    "np.diag(np.array([1,3,5,7,9,2,4,6]))   #diagonal elemests are filled"
   ]
  },
  {
   "cell_type": "code",
   "execution_count": 81,
   "metadata": {},
   "outputs": [],
   "source": [
    "import pandas as pd"
   ]
  },
  {
   "cell_type": "code",
   "execution_count": 86,
   "metadata": {},
   "outputs": [
    {
     "name": "stdout",
     "output_type": "stream",
     "text": [
      "0    1\n",
      "1    3\n",
      "2    5\n",
      "3    7\n",
      "4    9\n",
      "5    2\n",
      "6    4\n",
      "7    6\n",
      "dtype: int64\n",
      "[1 3 5 7 9 2 4 6]\n"
     ]
    },
    {
     "data": {
      "text/plain": [
       "RangeIndex(start=0, stop=8, step=1)"
      ]
     },
     "execution_count": 86,
     "metadata": {},
     "output_type": "execute_result"
    }
   ],
   "source": [
    "series1 = pd.Series([1,3,5,7,9,2,4,6])\n",
    "print(series1)\n",
    "print(series1.values)\n",
    "series1.index"
   ]
  },
  {
   "cell_type": "code",
   "execution_count": 98,
   "metadata": {},
   "outputs": [
    {
     "name": "stdout",
     "output_type": "stream",
     "text": [
      "50\n",
      "1    14\n",
      "2    24\n",
      "3    34\n",
      "4    44\n",
      "5    54\n",
      "dtype: int64\n",
      "1     100\n",
      "2     400\n",
      "3     900\n",
      "4    1600\n",
      "5    2500\n",
      "dtype: int64\n",
      "4    40\n",
      "5    50\n",
      "dtype: int64\n",
      "1    3.162278\n",
      "2    4.472136\n",
      "3    5.477226\n",
      "4    6.324555\n",
      "5    7.071068\n",
      "dtype: float64\n",
      "0     1\n",
      "1     9\n",
      "2    25\n",
      "3    49\n",
      "4    81\n",
      "5     4\n",
      "6    16\n",
      "7    36\n",
      "dtype: int64\n"
     ]
    },
    {
     "name": "stderr",
     "output_type": "stream",
     "text": [
      "C:\\Users\\hp\\Anaconda3\\lib\\site-packages\\pandas\\core\\series.py:942: FutureWarning: \n",
      "Passing list-likes to .loc or [] with any missing label will raise\n",
      "KeyError in the future, you can use .reindex() as an alternative.\n",
      "\n",
      "See the documentation here:\n",
      "https://pandas.pydata.org/pandas-docs/stable/indexing.html#deprecate-loc-reindex-listlike\n",
      "  return self.loc[key]\n"
     ]
    }
   ],
   "source": [
    "series2 = pd.Series([10,20,30,40,50], index=[1,2,3,4,5])\n",
    "series2\n",
    "print(series2[5])\n",
    "series2[[0,1,2]]\n",
    "print(series2 + 4)\n",
    "print(series2**2)\n",
    "print(series2[series2>30])\n",
    "print(np.sqrt(series2))\n",
    "print(np.square(series1))"
   ]
  },
  {
   "cell_type": "code",
   "execution_count": 101,
   "metadata": {},
   "outputs": [
    {
     "name": "stdout",
     "output_type": "stream",
     "text": [
      "<function <lambda> at 0x000002B1E0850378>\n"
     ]
    }
   ],
   "source": [
    "x = [1,3,5,2,4,7]\n",
    "f = lambda x:x.max() - x.min()\n",
    "print(f)"
   ]
  },
  {
   "cell_type": "code",
   "execution_count": null,
   "metadata": {},
   "outputs": [],
   "source": []
  }
 ],
 "metadata": {
  "kernelspec": {
   "display_name": "Python 3",
   "language": "python",
   "name": "python3"
  },
  "language_info": {
   "codemirror_mode": {
    "name": "ipython",
    "version": 3
   },
   "file_extension": ".py",
   "mimetype": "text/x-python",
   "name": "python",
   "nbconvert_exporter": "python",
   "pygments_lexer": "ipython3",
   "version": "3.7.3"
  }
 },
 "nbformat": 4,
 "nbformat_minor": 2
}
